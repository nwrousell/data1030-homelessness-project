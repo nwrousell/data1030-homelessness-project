{
 "cells": [
  {
   "cell_type": "markdown",
   "id": "238be084-7e8b-4293-90fe-ed82cb6b3d12",
   "metadata": {},
   "source": [
    "## Model Evaluation\n",
    "\n",
    "In this notebook, you can find the code for:\n",
    "1. Plotting model scores and compare to baseline\n",
    "2. Evaluating feature importance (Globally)\n",
    "3. Evaluating feature importance (Locally) for a few test points"
   ]
  },
  {
   "cell_type": "markdown",
   "id": "ebaafd61-2eea-4fb3-a30d-71fbcfbab292",
   "metadata": {},
   "source": [
    "#### Read dataset and model results and import required packages"
   ]
  },
  {
   "cell_type": "code",
   "execution_count": 16,
   "id": "2f341066-77a1-4c02-9403-e2d4b5958a5f",
   "metadata": {},
   "outputs": [],
   "source": [
    "import matplotlib.pyplot as plt\n",
    "import seaborn as sns\n",
    "import numpy as np\n",
    "import pandas as pd\n",
    "import pickle\n",
    "sns.set()\n",
    "\n",
    "with open('../data/xgboost_results.pickle', 'rb') as f:\n",
    "    xgboost_results = pickle.load(f)\n",
    "\n",
    "with open('../data/limited_dataset_results.pickle', 'rb') as f:\n",
    "    limited_dataset_results = pickle.load(f)"
   ]
  },
  {
   "cell_type": "code",
   "execution_count": 17,
   "id": "17ed9678-1cba-4812-8024-aec44f857bc1",
   "metadata": {},
   "outputs": [
    {
     "data": {
      "text/plain": [
       "[{'lasso': {'test_score': 5.281390883773422, 'model': Lasso()},\n",
       "  'ridge': {'test_score': 6.197009086807458, 'model': Ridge(alpha=1000.0)},\n",
       "  'elastic_net': {'test_score': 5.281390883773422,\n",
       "   'model': ElasticNet(l1_ratio=1.0)},\n",
       "  'KNN': {'test_score': 6.877213492381641,\n",
       "   'model': KNeighborsRegressor(weights='distance')},\n",
       "  'random_forest': {'test_score': 5.425292682621654,\n",
       "   'model': RandomForestRegressor(max_depth=10, max_features=0.75)},\n",
       "  'SVR': {'test_score': 6.826845455007484,\n",
       "   'model': SVR(C=46.41588833612782, gamma=0.001)}},\n",
       " {'lasso': {'test_score': 5.281390883773422, 'model': Lasso()},\n",
       "  'ridge': {'test_score': 6.197009086807458, 'model': Ridge(alpha=1000.0)},\n",
       "  'elastic_net': {'test_score': 5.281390883773422,\n",
       "   'model': ElasticNet(l1_ratio=1.0)},\n",
       "  'KNN': {'test_score': 6.877213492381641,\n",
       "   'model': KNeighborsRegressor(weights='distance')},\n",
       "  'random_forest': {'test_score': 5.533007840000566,\n",
       "   'model': RandomForestRegressor(max_depth=30, max_features=0.75)},\n",
       "  'SVR': {'test_score': 6.826845455007484,\n",
       "   'model': SVR(C=46.41588833612782, gamma=0.001)}},\n",
       " {'lasso': {'test_score': 5.281390883773422, 'model': Lasso()},\n",
       "  'ridge': {'test_score': 6.197009086807458, 'model': Ridge(alpha=1000.0)},\n",
       "  'elastic_net': {'test_score': 5.281390883773422,\n",
       "   'model': ElasticNet(l1_ratio=1.0)},\n",
       "  'KNN': {'test_score': 6.877213492381641,\n",
       "   'model': KNeighborsRegressor(weights='distance')},\n",
       "  'random_forest': {'test_score': 5.421392937669872,\n",
       "   'model': RandomForestRegressor(max_depth=10, max_features=0.5)},\n",
       "  'SVR': {'test_score': 6.826845455007484,\n",
       "   'model': SVR(C=46.41588833612782, gamma=0.001)}}]"
      ]
     },
     "execution_count": 17,
     "metadata": {},
     "output_type": "execute_result"
    }
   ],
   "source": [
    "limited_dataset_results"
   ]
  },
  {
   "cell_type": "markdown",
   "id": "a2f2c42a-79c9-48f4-a4b4-04b7ee1ade2e",
   "metadata": {},
   "source": [
    "### 1. Plot model scores"
   ]
  },
  {
   "cell_type": "code",
   "execution_count": 15,
   "id": "68d84bcb-7e19-4389-85de-7b7e8cfc14ae",
   "metadata": {},
   "outputs": [],
   "source": [
    "n_lags = xgboost_results[\"n_lags\"]\n",
    "models = xgboost_results[\"models\"]\n",
    "best_params = xgboost_results[\"best_params\"]\n",
    "xgb_scores = xgboost_results[\"test_scores\"]\n",
    "\n"
   ]
  }
 ],
 "metadata": {
  "kernelspec": {
   "display_name": "Python 3 (ipykernel)",
   "language": "python",
   "name": "python3"
  },
  "language_info": {
   "codemirror_mode": {
    "name": "ipython",
    "version": 3
   },
   "file_extension": ".py",
   "mimetype": "text/x-python",
   "name": "python",
   "nbconvert_exporter": "python",
   "pygments_lexer": "ipython3",
   "version": "3.11.4"
  }
 },
 "nbformat": 4,
 "nbformat_minor": 5
}
